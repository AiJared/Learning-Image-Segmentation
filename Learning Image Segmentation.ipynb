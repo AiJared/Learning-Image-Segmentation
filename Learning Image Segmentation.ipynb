{
 "cells": [
  {
   "cell_type": "markdown",
   "id": "7acce0dd",
   "metadata": {},
   "source": [
    "## Understanding of Image Segmentation\n",
    "\n",
    "Suppose you want to know the shape of the object in an image, which pixel belongs to which object, etc, you need to assign a class to each pixel of the image - this task is known as segmentation.\n",
    "\n",
    "A segmented model returns much more detailed information about the image. Some applications of image segmentation are in medical imaging, self-driving cars and satellite imaging, just to name a few.\n",
    "\n",
    "This project uses the OXford-IIIT Pet Dataset(Parkhi et al, 2012). The dataset consists of images of 37 pet breeds, with 200 image per breed(~100 each in the training and test splits). Each image includes the corresponding labels, and pixel-wise masks. The masks are class-labels for each pixel. Each pixel is given one of three categories:\n",
    "    \n",
    "    1. Class 1: Pixel belonging to the pet\n",
    "    \n",
    "    2. Class 2: Pixel bordering the pet.\n",
    "    \n",
    "    3. Class 3: None of the above/a surrounding pixel"
   ]
  },
  {
   "cell_type": "code",
   "execution_count": null,
   "id": "6831f0d1",
   "metadata": {},
   "outputs": [],
   "source": []
  }
 ],
 "metadata": {
  "kernelspec": {
   "display_name": "Python 3 (ipykernel)",
   "language": "python",
   "name": "python3"
  },
  "language_info": {
   "codemirror_mode": {
    "name": "ipython",
    "version": 3
   },
   "file_extension": ".py",
   "mimetype": "text/x-python",
   "name": "python",
   "nbconvert_exporter": "python",
   "pygments_lexer": "ipython3",
   "version": "3.10.6"
  }
 },
 "nbformat": 4,
 "nbformat_minor": 5
}
